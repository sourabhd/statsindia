{
 "metadata": {
  "name": "How_frequently_are_activists_in_India_assaulted"
 },
 "nbformat": 3,
 "nbformat_minor": 0,
 "worksheets": [
  {
   "cells": [
    {
     "cell_type": "heading",
     "level": 3,
     "metadata": {},
     "source": [
      "Import libraries"
     ]
    },
    {
     "cell_type": "code",
     "collapsed": false,
     "input": [
      "import pandas as pd\n",
      "import numpy as np\n",
      "import json as json\n",
      "import urllib\n",
      "import urllib2\n",
      "import requests\n",
      "from pprint import pprint\n",
      "from lxml import etree"
     ],
     "language": "python",
     "metadata": {},
     "outputs": [],
     "prompt_number": 3
    },
    {
     "cell_type": "heading",
     "level": 3,
     "metadata": {},
     "source": [
      "Fetch data from wikipedia "
     ]
    },
    {
     "cell_type": "code",
     "collapsed": false,
     "input": [
      "atkUrl = 'http://en.wikipedia.org/w/api.php'\n",
      "atkValues  = {'action':'parse', 'format':'json', 'page':'Attacks_on_RTI_activists_in_India', 'prop':'text', 'section':'2'}\n",
      "atkUrlValues = urllib.urlencode(atkValues)\n",
      "atkFullUrl = atkUrl + '?'+ atkUrlValues\n",
      "print atkFullUrl\n",
      "atkReq = requests.get(atkFullUrl)\n",
      "atkRes = atkReq.text"
     ],
     "language": "python",
     "metadata": {},
     "outputs": [
      {
       "output_type": "stream",
       "stream": "stdout",
       "text": [
        "http://en.wikipedia.org/w/api.php?action=parse&section=2&prop=text&page=Attacks_on_RTI_activists_in_India&format=json\n"
       ]
      }
     ],
     "prompt_number": 4
    },
    {
     "cell_type": "code",
     "collapsed": false,
     "input": [
      "atkData = json.loads(atkRes)\n",
      "tree = etree.HTML(atkData['parse']['text']['*'])\n",
      "print tree[0][1] \n",
      "htmlTable = etree.tostring(tree[0][1],pretty_print=True, method='html')\n",
      "df = pd.io.html.read_html(htmlTable,header=0,infer_types=False)"
     ],
     "language": "python",
     "metadata": {},
     "outputs": [
      {
       "output_type": "stream",
       "stream": "stdout",
       "text": [
        "<Element table at 0x107d66e10>\n"
       ]
      }
     ],
     "prompt_number": 108
    },
    {
     "cell_type": "code",
     "collapsed": false,
     "input": [
      "print df"
     ],
     "language": "python",
     "metadata": {},
     "outputs": [
      {
       "output_type": "stream",
       "stream": "stdout",
       "text": [
        "[<class 'pandas.core.frame.DataFrame'>\n",
        "Int64Index: 155 entries, 1 to 155\n",
        "Data columns (total 5 columns):\n",
        "Name                  155  non-null values\n",
        "State                 155  non-null values\n",
        "Date                  155  non-null values\n",
        "Attack type           155  non-null values\n",
        "Nature of Activism    13  non-null values\n",
        "dtypes: object(5)]\n"
       ]
      }
     ],
     "prompt_number": 56
    },
    {
     "cell_type": "code",
     "collapsed": false,
     "input": [
      "S = df[0]['Date'].dropna()\n",
      "S = [ x.replace('Since ', '') for x in S ]\n",
      "S = [ x for x in S if x <> 'Unknown' ]\n",
      "T = pd.TimeSeries(pd.to_datetime(S)) # still not converted to date\n",
      "T\n"
     ],
     "language": "python",
     "metadata": {},
     "outputs": [
      {
       "output_type": "pyout",
       "prompt_number": 154,
       "text": [
        "0      14 January 2013\n",
        "1      6 November 2007\n",
        "2        26 March 2009\n",
        "3             11/17/07\n",
        "4       2 January 2009\n",
        "5       6 January 2009\n",
        "6          7 June 2009\n",
        "7             10/27/09\n",
        "8       1 January 2010\n",
        "9        1 August 2010\n",
        "10      1 October 2010\n",
        "11             3/16/10\n",
        "12      4 January 2010\n",
        "13             7/17/10\n",
        "14    8 September 2010\n",
        "...\n",
        "118       1 October 2012\n",
        "119          11 May 2011\n",
        "120       12 August 2011\n",
        "121              8/19/10\n",
        "122              2/22/11\n",
        "123         12 July 2011\n",
        "124     2 September 1212\n",
        "125          25 Feb 2012\n",
        "126          5 July 2012\n",
        "127          7 July 2012\n",
        "128    21 September 2012\n",
        "129      12 January 2013\n",
        "130        23 March 2013\n",
        "131         30 June 2013\n",
        "132         25 July 2013\n",
        "Length: 133, dtype: object"
       ]
      }
     ],
     "prompt_number": 154
    },
    {
     "cell_type": "code",
     "collapsed": false,
     "input": [],
     "language": "python",
     "metadata": {},
     "outputs": [],
     "prompt_number": 128
    },
    {
     "cell_type": "code",
     "collapsed": false,
     "input": [],
     "language": "python",
     "metadata": {},
     "outputs": []
    }
   ],
   "metadata": {}
  }
 ]
}