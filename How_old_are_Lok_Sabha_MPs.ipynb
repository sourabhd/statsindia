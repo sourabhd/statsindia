{
 "metadata": {
  "name": "How_old_are_Lok_Sabha_MPs"
 },
 "nbformat": 3,
 "nbformat_minor": 0,
 "worksheets": [
  {
   "cells": [
    {
     "cell_type": "heading",
     "level": 1,
     "metadata": {},
     "source": [
      "How old are Lok Sabha MPs ?"
     ]
    },
    {
     "cell_type": "raw",
     "metadata": {},
     "source": [
      "Ever wondered what is the average age of of our MPs in Loksabha ? Lets find out !"
     ]
    },
    {
     "cell_type": "heading",
     "level": 4,
     "metadata": {},
     "source": [
      "Import our libraries"
     ]
    },
    {
     "cell_type": "code",
     "collapsed": false,
     "input": [
      "import pandas as pd\n",
      "import xlrd as xl\n",
      "import urllib2 as ul\n",
      "import datetime as dt\n",
      "import numpy as np\n",
      "import matplotlib.pyplot as plt"
     ],
     "language": "python",
     "metadata": {},
     "outputs": [],
     "prompt_number": 2
    },
    {
     "cell_type": "heading",
     "level": 4,
     "metadata": {},
     "source": [
      "Fetch the data"
     ]
    },
    {
     "cell_type": "code",
     "collapsed": false,
     "input": [
      "lsUrl = 'http://data.gov.in/sites/default/files/Members_of_Ongoing_Fifteenth_Lok_Sabha_from_18th_May_2009_Onwards.xls'\n",
      "socket = ul.urlopen(lsUrl)\n",
      "xd = pd.ExcelFile(socket)\n",
      "xd.sheet_names"
     ],
     "language": "python",
     "metadata": {},
     "outputs": [
      {
       "output_type": "pyout",
       "prompt_number": 3,
       "text": [
        "[u'Members of Fifteenth Lok Sabha']"
       ]
      }
     ],
     "prompt_number": 3
    },
    {
     "cell_type": "heading",
     "level": 4,
     "metadata": {},
     "source": [
      "Parse the data"
     ]
    },
    {
     "cell_type": "code",
     "collapsed": false,
     "input": [
      "df = xd.parse(xd.sheet_names[0])\n",
      "df"
     ],
     "language": "python",
     "metadata": {},
     "outputs": [
      {
       "html": [
        "<pre>\n",
        "&ltclass 'pandas.core.frame.DataFrame'&gt\n",
        "Int64Index: 557 entries, 0 to 556\n",
        "Data columns (total 30 columns):\n",
        "Lok Sabha                         557  non-null values\n",
        "Member Name                       557  non-null values\n",
        "Gender                            551  non-null values\n",
        "Constituency Name                 557  non-null values\n",
        "Party Name                        557  non-null values\n",
        "State Name                        557  non-null values\n",
        "Date of Birth                     554  non-null values\n",
        "Marital Status                    549  non-null values\n",
        "Freedom Fighter                   557  non-null values\n",
        "Permanent Address                 554  non-null values\n",
        "Permanent Phone                   517  non-null values\n",
        "Delhi Address                     553  non-null values\n",
        "Delhi Phone                       550  non-null values\n",
        "Profession                        556  non-null values\n",
        "Father Name                       554  non-null values\n",
        "Mother Name                       525  non-null values\n",
        "Spouse Name                       529  non-null values\n",
        "Place of Birth                    551  non-null values\n",
        "Date of Marriage                  474  non-null values\n",
        "No. of Sons                       556  non-null values\n",
        "No. of Daughters                  556  non-null values\n",
        "Education &amp; Institution           556  non-null values\n",
        "Books Published                   79  non-null values\n",
        "Literary Interest                 122  non-null values\n",
        "Social And Cultural Activities    375  non-null values\n",
        "Special Interests                 438  non-null values\n",
        "Hobbies                           399  non-null values\n",
        "Sports                            344  non-null values\n",
        "Countries Visited                 354  non-null values\n",
        "Other Information                 288  non-null values\n",
        "dtypes: float64(2), object(28)\n",
        "</pre>"
       ],
       "output_type": "pyout",
       "prompt_number": 4,
       "text": [
        "<class 'pandas.core.frame.DataFrame'>\n",
        "Int64Index: 557 entries, 0 to 556\n",
        "Data columns (total 30 columns):\n",
        "Lok Sabha                         557  non-null values\n",
        "Member Name                       557  non-null values\n",
        "Gender                            551  non-null values\n",
        "Constituency Name                 557  non-null values\n",
        "Party Name                        557  non-null values\n",
        "State Name                        557  non-null values\n",
        "Date of Birth                     554  non-null values\n",
        "Marital Status                    549  non-null values\n",
        "Freedom Fighter                   557  non-null values\n",
        "Permanent Address                 554  non-null values\n",
        "Permanent Phone                   517  non-null values\n",
        "Delhi Address                     553  non-null values\n",
        "Delhi Phone                       550  non-null values\n",
        "Profession                        556  non-null values\n",
        "Father Name                       554  non-null values\n",
        "Mother Name                       525  non-null values\n",
        "Spouse Name                       529  non-null values\n",
        "Place of Birth                    551  non-null values\n",
        "Date of Marriage                  474  non-null values\n",
        "No. of Sons                       556  non-null values\n",
        "No. of Daughters                  556  non-null values\n",
        "Education & Institution           556  non-null values\n",
        "Books Published                   79  non-null values\n",
        "Literary Interest                 122  non-null values\n",
        "Social And Cultural Activities    375  non-null values\n",
        "Special Interests                 438  non-null values\n",
        "Hobbies                           399  non-null values\n",
        "Sports                            344  non-null values\n",
        "Countries Visited                 354  non-null values\n",
        "Other Information                 288  non-null values\n",
        "dtypes: float64(2), object(28)"
       ]
      }
     ],
     "prompt_number": 4
    },
    {
     "cell_type": "code",
     "collapsed": false,
     "input": [
      "df['Member Name']"
     ],
     "language": "python",
     "metadata": {},
     "outputs": [
      {
       "output_type": "pyout",
       "prompt_number": 5,
       "text": [
        "0                Shri Basudeb Acharia\n",
        "1             Shri Lal Krishna Advani\n",
        "2                    Shri Ramesh Bais\n",
        "3       Shri Gajendra Singh Rajukhedi\n",
        "4          Shri Bansa Gopal Chowdhury\n",
        "5                   Shri Tufani Saroj\n",
        "6             Shri Francisco Sardinha\n",
        "7      Shri Arun Subhashchandra Yadav\n",
        "8                 Shri Neeraj Shekhar\n",
        "9          Shri Deepender Singh Hooda\n",
        "10                   Shri Pakauri Lal\n",
        "11    Shri Sonawane Pratap Narayanrao\n",
        "12              Smt. Priya Sunil Dutt\n",
        "13              Shri H.D. Kumaraswamy\n",
        "14                   Shri Ashok Argal\n",
        "...\n",
        "542                 Smt. Kamla Devi Patle\n",
        "543                  Shri Devendra Nagpal\n",
        "544                  Shri Nishikant Dubey\n",
        "545                     Shri Kamal Kishor\n",
        "546                Shri Bhakta Charan Das\n",
        "547    Shri Chongshen Mongkosungkum Chang\n",
        "548                     Prof. Saugata Roy\n",
        "549                 Shri Rajendra Agrawal\n",
        "550          Shri Ramesh Vishwanath Katti\n",
        "551                      Shri Sanjay Bhoi\n",
        "552                     Shri Takam Sanjoy\n",
        "553                   Dr. Kirodilal Meena\n",
        "554                   Shri Ismail Hussain\n",
        "555                      Shri Anto Antony\n",
        "556                      Dr. Charles Dias\n",
        "Name: Member Name, Length: 557, dtype: object"
       ]
      }
     ],
     "prompt_number": 5
    },
    {
     "cell_type": "heading",
     "level": 3,
     "metadata": {},
     "source": [
      "So how old are the Lok Sabha MPs ?"
     ]
    },
    {
     "cell_type": "code",
     "collapsed": false,
     "input": [
      "def age(x):\n",
      "    if isinstance(x,dt.datetime):\n",
      "        return real((dt.datetime.now() - x).days / 365.0)\n",
      "    else:\n",
      "        return 0\n",
      "\n",
      "df['Date of Birth'].dropna().map(age).describe()\n",
      "    \n",
      "    "
     ],
     "language": "python",
     "metadata": {},
     "outputs": [
      {
       "output_type": "pyout",
       "prompt_number": 6,
       "text": [
        "count    554.000000\n",
        "mean      57.836170\n",
        "std       11.199062\n",
        "min       31.320548\n",
        "25%       49.643151\n",
        "50%       58.202740\n",
        "75%       65.289041\n",
        "max       92.613699\n",
        "dtype: float64"
       ]
      }
     ],
     "prompt_number": 6
    },
    {
     "cell_type": "heading",
     "level": 3,
     "metadata": {},
     "source": [
      "Histogram of the age distribution of Lok Sabh MPs \n"
     ]
    },
    {
     "cell_type": "code",
     "collapsed": false,
     "input": [
      "plt.figure()\n",
      "df['Date of Birth'].dropna().map(age).hist(bins=50)\n",
      "plt.legend(loc='best')"
     ],
     "language": "python",
     "metadata": {},
     "outputs": [
      {
       "output_type": "display_data",
       "png": "[encoded data removed]"
      }
     ],
     "prompt_number": 9
    },
    {
     "cell_type": "heading",
     "level": 3,
     "metadata": {},
     "source": [
      "Now lets compare this with the age distribution of the entire country"
     ]
    },
    {
     "cell_type": "raw",
     "metadata": {},
     "source": [
      "TBD"
     ]
    },
    {
     "cell_type": "code",
     "collapsed": false,
     "input": [],
     "language": "python",
     "metadata": {},
     "outputs": []
    }
   ],
   "metadata": {}
  }
 ]
}